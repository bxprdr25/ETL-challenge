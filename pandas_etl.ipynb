{
 "cells": [
  {
   "cell_type": "code",
   "execution_count": null,
   "metadata": {},
   "outputs": [],
   "source": [
    "import pandas as pd\n",
    "import os\n",
    "from sqlalchemy import create_engine\n",
    "from datetime import date, timedelta\n",
    "from dotenv import load_dotenv, find_dotenv\n",
    "from sqlalchemy_utils import database_exists, create_database"
   ]
  },
  {
   "cell_type": "markdown",
   "metadata": {},
   "source": [
    "### Extract CSVs into DataFrames"
   ]
  },
  {
   "cell_type": "code",
   "execution_count": null,
   "metadata": {},
   "outputs": [],
   "source": [
    "crime_file = \"./Resources/2019_NYPD_Complaint_Data.csv\"\n",
    "crime_df = pd.read_csv(crime_file)\n",
    "crime_df.head()"
   ]
  },
  {
   "cell_type": "markdown",
   "metadata": {},
   "source": [
    "### Transform 2019 Crime DataFrame"
   ]
  },
  {
   "cell_type": "code",
   "execution_count": null,
   "metadata": {},
   "outputs": [],
   "source": [
    "# Create a filtered dataframe from specific columns\n",
    "crime_cols = [\"CMPLNT_NUM\", \"BORO_NM\", \"CMPLNT_FR_DT\", \"CMPLNT_TO_DT\", \"CRM_ATPT_CPTD_CD\", \"KY_CD\", \"LAW_CAT_CD\",\n",
    "                \"OFNS_DESC\", \"SUSP_AGE_GROUP\", \"SUSP_RACE\", \"SUSP_SEX\", \"VIC_AGE_GROUP\", \n",
    "                \"VIC_RACE\", \"VIC_SEX\", \"Latitude\", \"Longitude\"]\n",
    "\n",
    "crime_transformed = crime_df[crime_cols].copy()\n",
    "\n",
    "# Rename the column headers\n",
    "crime_transformed = crime_transformed.rename(columns={\"CMPLNT_NUM\": \"Complaint_ID\", \n",
    "                                                      \"BORO_NM\": \"Boro_Name\", \n",
    "                                                      \"CMPLNT_FR_DT\":\"Start_Date\", \n",
    "                                                      \"CMPLNT_TO_DT\":\"End_Date\", \n",
    "                                                      \"CRM_ATPT_CPTD_CD\":\"Complaint_Status\", \n",
    "                                                      \"KY_CD\":\"Complaint_Code\", \n",
    "                                                      \"LAW_CAT_CD\": \"Complaint_Cat\",\n",
    "                                                      \"OFNS_DESC\":\"Complaint_Desc\", \n",
    "                                                      \"SUSP_AGE_GROUP\":\"Suspect_Age\", \n",
    "                                                      \"SUSP_RACE\":\"Suspect_Race\", \n",
    "                                                      \"SUSP_SEX\": \"Suspect_Gender\", \n",
    "                                                      \"VIC_AGE_GROUP\":\"Victim_Age\", \n",
    "                                                      \"VIC_RACE\":\"Victim_Race\", \n",
    "                                                      \"VIC_SEX\":\"Victim_Gender\", \n",
    "                                                      \"Latitude\":\"Latitude\", \n",
    "                                                      \"Longitude\":\"Longitude\"})\n",
    "\n",
    "#Convert the Start Date and End Date columns from object to datetime datatypes\n",
    "crime_transformed[\"Start_Date\"] = pd.to_datetime(crime_transformed[\"Start_Date\"], format=\"%m/%d/%Y\", errors=\"coerce\")\n",
    "crime_transformed[\"End_Date\"] = pd.to_datetime(crime_transformed[\"End_Date\"], format=\"%m/%d/%Y\", errors=\"coerce\")\n",
    "\n",
    "#Filter to return where the start date and end date year is equal to 2019\n",
    "crime_transformed_filter=crime_transformed[(crime_transformed[\"Start_Date\"].dt.year == 2019) & (crime_transformed[\"End_Date\"].dt.year == 2019)]\n",
    "\n",
    "#Filter to return where the month equals July or December based on the start date\n",
    "crime_transformed_filter=crime_transformed_filter[(crime_transformed_filter[\"Start_Date\"].dt.month_name() == \"July\") | (crime_transformed_filter[\"Start_Date\"].dt.month_name() == \"December\")]\n",
    "\n",
    "#This will show only the rows that have a NAN value to allow the user the option of dropping them.\n",
    "crime_transformed_filter_na = crime_transformed_filter[crime_transformed_filter.isna().any(axis=1)]\n",
    "crime_transformed_filter_na\n",
    "\n",
    "cols=[\"Latitude\", \"Longitude\"]\n",
    "crime_transformed_filter[[\"Lat3\", \"Long3\"]] = crime_transformed_filter[cols].round(3)\n",
    "crime_transformed_filter[[\"Lat2\", \"Long2\"]] = crime_transformed_filter[cols].round(2)\n",
    "crime_transformed_filter[[\"Lat1\", \"Long1\"]] = crime_transformed_filter[cols].round(1)\n",
    "\n",
    "crime_transformed_filter"
   ]
  },
  {
   "cell_type": "code",
   "execution_count": null,
   "metadata": {},
   "outputs": [],
   "source": [
    "lat_long = \"./Resources/us_zip_lat_long.csv\"\n",
    "lat_long_df = pd.read_csv(lat_long)\n",
    "lat_long_df.head()"
   ]
  },
  {
   "cell_type": "markdown",
   "metadata": {},
   "source": [
    "### Transform US Latitude/Longitude Dataframe"
   ]
  },
  {
   "cell_type": "code",
   "execution_count": null,
   "metadata": {},
   "outputs": [],
   "source": [
    "lat_long_df[[\"Lat3\", \"Long3\"]] = lat_long_df[cols].round(3)\n",
    "lat_long_df[[\"Lat2\", \"Long2\"]] = lat_long_df[cols].round(2)\n",
    "lat_long_df[[\"Lat1\", \"Long1\"]] = lat_long_df[cols].round(1)\n",
    "\n",
    "lat_long_df.drop([\"Timezone\", \"Daylight savings time flag\"],axis=1, inplace=True)\n",
    "\n",
    "lat_long_NY_df = lat_long_df[(lat_long_df.State.eq(\"NY\"))]\n",
    "\n",
    "lat_long_NY_df"
   ]
  },
  {
   "cell_type": "markdown",
   "metadata": {},
   "source": [
    "### Create database connection"
   ]
  },
  {
   "cell_type": "code",
   "execution_count": null,
   "metadata": {},
   "outputs": [],
   "source": [
    "#Create connection to postgres and create database nypd_crimes using sqlalchemy\n",
    "load_dotenv()\n",
    "my_env_var = os.getenv('DB_CONNECTION_STRING')\n",
    "engine = create_engine(my_env_var)\n",
    "\n",
    "connection = engine.connect()\n",
    "connection.execute(\"commit\")\n",
    "connection.execute(\"create database nypd_crimes\")\n",
    "\n",
    "engine = create_engine(f'{my_env_var}/nypd_crimes')"
   ]
  },
  {
   "cell_type": "code",
   "execution_count": null,
   "metadata": {},
   "outputs": [],
   "source": [
    "from sqlalchemy.ext.declarative import declarative_base\n",
    "Base = declarative_base\n",
    "from sqlalchemy import Table, Column, Integer, String, Float, DateTime, Date, MetaData\n",
    "\n",
    "meta = MetaData()\n",
    "\n",
    "ny_crimes = Table('crimes', meta,\n",
    "    Column(\"Complaint_ID\", Integer, primary_key=True),\n",
    "    Column(\"Boro_Name\", String(255)),\n",
    "    Column(\"Start_Date\", DateTime),\n",
    "    Column(\"End_Date\", DateTime),\n",
    "    Column(\"Complaint_Status\", String(255)),\n",
    "    Column(\"Complaint_Code\", Integer),\n",
    "    Column(\"Complaint_Cat\", String(255)),\n",
    "    Column(\"Complaint_Desc\", String(255)),\n",
    "    Column(\"Suspect_Age\", String(255)),\n",
    "    Column(\"Suspect_Race\", String(255)),\n",
    "    Column(\"Suspect_Gender\", String(255)),\n",
    "    Column(\"Victim_Age\", String(255)),\n",
    "    Column(\"Victim_Race\", String(255)),\n",
    "    Column(\"Victim_Gender\",String(255)),\n",
    "    Column(\"Latitude\", Float),\n",
    "    Column(\"Longitude\", Float),\n",
    "    Column(\"Lat3\", Float),\n",
    "    Column(\"Long3\", Float),\n",
    "    Column(\"Lat2\", Float),\n",
    "    Column(\"Long2\", Float),\n",
    "    Column(\"Lat1\", Float),\n",
    "    Column(\"Long1\", Float),)"
   ]
  },
  {
   "cell_type": "markdown",
   "metadata": {},
   "source": [
    "### Load DataFrames into database"
   ]
  },
  {
   "cell_type": "code",
   "execution_count": null,
   "metadata": {},
   "outputs": [],
   "source": [
    "crime_transformed_filter.to_sql(name='crimes', con = engine, if_exists='replace', index=False)"
   ]
  },
  {
   "cell_type": "code",
   "execution_count": null,
   "metadata": {},
   "outputs": [],
   "source": [
    "ny_lat_long = Table('lat_long', meta,\n",
    "                    Column(\"Zip\", Integer, primary_key=True),\n",
    "                    Column(\"City\", String(255)),\n",
    "                    Column(\"State\",String(255)),\n",
    "                    Column(\"Latitude\", Float),\n",
    "                    Column(\"Longitude\", Float),\n",
    "                    Column(\"geopoint\", String(255)),\n",
    "                    Column(\"Lat3\", Float),\n",
    "                    Column(\"Long3\", Float),\n",
    "                    Column(\"Lat2\", Float),\n",
    "                    Column(\"Long2\", Float),\n",
    "                    Column(\"Lat1\", Float),\n",
    "                    Column(\"Long1\", Float),)\n",
    "\n",
    "meta.create_all(engine)"
   ]
  },
  {
   "cell_type": "code",
   "execution_count": null,
   "metadata": {},
   "outputs": [],
   "source": [
    "# Confirm tables\n",
    "engine.table_names()"
   ]
  },
  {
   "cell_type": "code",
   "execution_count": null,
   "metadata": {},
   "outputs": [],
   "source": [
    "lat_long_NY_df.to_sql(name='lat_long', con = engine, if_exists='replace', index=False)"
   ]
  },
  {
   "cell_type": "code",
   "execution_count": null,
   "metadata": {},
   "outputs": [],
   "source": [
    "joined_data = crimes.join(lat_long, crimes.Latitude == lat_long.Latitude)\n",
    "stmt = select([crimes]).select_from(joined_data)\n",
    "result = connection.execute(stmt)\n",
    "result.fetchall()"
   ]
  },
  {
   "cell_type": "code",
   "execution_count": null,
   "metadata": {},
   "outputs": [],
   "source": []
  }
 ],
 "metadata": {
  "kernelspec": {
   "display_name": "Python 3",
   "language": "python",
   "name": "python3"
  },
  "language_info": {
   "codemirror_mode": {
    "name": "ipython",
    "version": 3
   },
   "file_extension": ".py",
   "mimetype": "text/x-python",
   "name": "python",
   "nbconvert_exporter": "python",
   "pygments_lexer": "ipython3",
   "version": "3.8.3"
  }
 },
 "nbformat": 4,
 "nbformat_minor": 2
}
